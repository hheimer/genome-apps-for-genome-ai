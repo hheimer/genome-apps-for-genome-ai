{
 "cells": [
  {
   "cell_type": "markdown",
   "metadata": {},
   "source": [
    "<center><h1>Welcome! Lets Make a Genome App!<h1/> "
   ]
  },
  {
   "cell_type": "markdown",
   "metadata": {},
   "source": [
    "## 1. Run this cell to import the json package we'll need"
   ]
  },
  {
   "cell_type": "code",
   "execution_count": 1,
   "metadata": {
    "collapsed": true
   },
   "outputs": [],
   "source": [
    "import json"
   ]
  },
  {
   "cell_type": "markdown",
   "metadata": {},
   "source": [
    "## 2. Enter the genomic regions you want to search\n",
    "See the image below for an example of what to enter below. \n",
    "<div>\n",
    "    <img src=\"../media/set_regions_example.png\" align=\"left\" width=650 height=200>\n",
    "</div>"
   ]
  },
  {
   "cell_type": "code",
   "execution_count": 2,
   "metadata": {
    "collapsed": true
   },
   "outputs": [],
   "source": [
    "regions = [\n",
    "    \"chr:start-stop\",\n",
    "    \"chr:start-stop\",\n",
    "]"
   ]
  },
  {
   "cell_type": "markdown",
   "metadata": {},
   "source": [
    "<hr style=\"border: none; border-bottom: 3px solid #20D9BA;\">\n",
    "## 3. Build Result 1"
   ]
  },
  {
   "cell_type": "markdown",
   "metadata": {},
   "source": [
    "### 3.1 Run the cell below to set up the first possible result"
   ]
  },
  {
   "cell_type": "code",
   "execution_count": null,
   "metadata": {
    "collapsed": true
   },
   "outputs": [],
   "source": [
    "result1 = {\"analysis\": {\"variants1\": {\"features\": {}},\n",
    "                        \"genes1\": {\"features\": {}}}}"
   ]
  },
  {
   "cell_type": "markdown",
   "metadata": {},
   "source": [
    "### 3.2 Enter info for your first result here\n",
    "Here's an example of how this information will be displayed on the Guardiome UI once your app is published!\n",
    "\n",
    "XXX image of result and optional keys in gui"
   ]
  },
  {
   "cell_type": "code",
   "execution_count": null,
   "metadata": {
    "collapsed": true
   },
   "outputs": [],
   "source": [
    "result1[\"result\"] = \"Result of basic genome app.\" # Ex: \"You could be a powerful ninja!\"\n",
    "result1[\"logic\"] = \"or/and\" # Ex: \"or\"\n",
    "result1[\"Optional Key 1\"] = \"Text\" # Ex: [\"Fun\"] = \"Hopefully its discount season, because now is the time to shop for all black clothes!\"\n",
    "result1[\"Optional Key 2\"] = \"Text\" # Add additional information about genome app"
   ]
  },
  {
   "cell_type": "markdown",
   "metadata": {
    "ExecuteTime": {
     "end_time": "2017-05-19T21:48:13.985170Z",
     "start_time": "2017-05-19T21:48:13.973926"
    }
   },
   "source": [
    "### 3.3 Add info about genomic variants that will be searched for result 1\n",
    "Here's an explanation of the fields you'll be filling in below:\n",
    "\n",
    "* 'sub_result'\n",
    "  * if criteria met, the value for 'sub_result' is added to and displayed with the result.\n",
    "  * value for 'sub_result' may contain 'WWW'. If logic is __add__ or __multiply__, 'WWW' is replaced with either the sum or product of the weights corresponding to the matching genotypes. Then as always, the value for 'sub_result' is added to the result\n",
    "* 'logic'\n",
    "  * __and__\n",
    "    * if the customer's genotype should match one of the genotypes in 'genotypes' of each variant in 'features'\n",
    "  * __or__\n",
    "    * if the customer's genotype should match one of the genotypes in 'genotypes' of at least one variant in 'features'\n",
    "  * __add__\n",
    "    * the weights corresponding to each matching genotype in 'genotypes' are added together and the 'WWW' string in the value for sub_result will be replaced by the sum of the weights.\n",
    "  * __multiply__\n",
    "    * the weights corresponding to each matching genotype in 'genotypes' are multiplied and the 'WWW' string in the value for sub_result will be replaced by the product of the weights.\n",
    "* 'features'\n",
    "  * add as many as you want\n",
    "  * each key should be the name of a variant like ['rs333'](https://www.snpedia.com/index.php/Rs333). Make sure to include the 'rs' in the variant name.\n",
    "  * 'genotypes'\n",
    "    * can have multiple\n",
    "    * each genotype is a list of two alleles. The order of the alleles doesn't matter\n",
    "    * if the allele is multiple nucleotides long, make sure you write them in the 5' to 3' direction (almost universally used).\n",
    "  * 'weights'\n",
    "    * can be an empty list or can have an integer corresponding to each genotype listed in 'genotypes'\n",
    "    * the first weight listed corresponds to the first genotype listed in 'genotypes'"
   ]
  },
  {
   "cell_type": "code",
   "execution_count": 7,
   "metadata": {
    "ExecuteTime": {
     "end_time": "2017-05-19T19:25:26.449963Z",
     "start_time": "2017-05-19T19:25:26.445628"
    },
    "collapsed": true
   },
   "outputs": [],
   "source": [
    "result1[\"analysis\"][\"variants1\"][\"logic\"] = \"or/and/add/multiply\" # Ex: \"add\"\n",
    "result1[\"analysis\"][\"variants1\"][\"sub_result\"] = \"\"  # More specific result\n",
    "result1[\"analysis\"][\"variants1\"][\"features\"][\"variant1\"] = {\"genotypes\": [[\"allele1\", \"allele2\"],], # Ex: [\"rs333\"] = {\"genotypes\": [[\"A\", \"T\"], [\"T\", \"C\"]],\n",
    "                                                           \"weights\": []}  # \"weights\": [0.3, 0.4]}\n",
    "result1[\"analysis\"][\"variants1\"][\"features\"][\"variant2\"] = {}  # Add more than 1 variant"
   ]
  },
  {
   "cell_type": "markdown",
   "metadata": {},
   "source": [
    "### 3.4 Add info about genes that will be searched for result 1"
   ]
  },
  {
   "cell_type": "code",
   "execution_count": 8,
   "metadata": {
    "ExecuteTime": {
     "end_time": "2017-05-19T19:41:27.421918Z",
     "start_time": "2017-05-19T19:41:27.416256"
    },
    "collapsed": true
   },
   "outputs": [],
   "source": [
    "result1[\"analysis\"][\"genes1\"][\"logic\"] = \"or/and\" # Ex: \"or\"\n",
    "result1[\"analysis\"][\"genes1\"][\"sub_result\"] = \"\"  # More specific result\n",
    "result1[\"analysis\"][\"genes1\"][\"features\"][\"gene1\"] = {\"logic\": \"or/and\",              # Ex: [\"FAM138A\"] = {\"logic\": \"or\",\n",
    "                                                     \"fields\": {\"field1\": \"value1\",  #                    \"fields\": {\"effect\": \"upstream_gene_variant\",\n",
    "                                                                \"field2\": \"value2\"}} #                               \"putative_impact\": \"MODERATE\"}}\n",
    "result1[\"analysis\"][\"genes1\"][\"features\"][\"gene2\"] = {} # Add more than 1 gene"
   ]
  },
  {
   "cell_type": "markdown",
   "metadata": {},
   "source": [
    "<hr style=\"border: none; border-bottom: 3px solid #20D9BA;\">\n",
    "## 4. If you want, add more results below\n",
    "To turn the cell below into actionable code, highlight the entire cell and press COMMAND + /. If you want to add even more results, you can copy and paste the content below into new cells :)"
   ]
  },
  {
   "cell_type": "code",
   "execution_count": null,
   "metadata": {
    "collapsed": true
   },
   "outputs": [],
   "source": [
    "# result2 = {\"analysis\": {\"variants1\": {\"features\": {}},\n",
    "#                         \"genes1\": {\"features\": {}}}}\n",
    "\n",
    "# result2[\"result\"] = \"Result of basic genome app.\" # Ex: \"You might be able to become a powerful ninja!\"\n",
    "# result2[\"logic\"] = \"or/and\" # Ex: \"or\"\n",
    "# result2[\"Optional Key 1\"] = \"Text\"\n",
    "\n",
    "# result2[\"analysis\"][\"variants1\"][\"logic\"] = \"or/and/add/multiply\" # Ex: \"add\"\n",
    "# result2[\"analysis\"][\"variants1\"][\"sub_result\"] = \"\"  # More specific result\n",
    "# result2[\"analysis\"][\"variants1\"][\"features\"][\"variant1\"] = {\"genotypes\": [[\"allele1\", \"allele2\"],], # Ex: [\"rs333\"] = {\"genotypes\": [[\"A\", \"T\"], [\"T\", \"C\"]],\n",
    "#                                                            \"weights\": []}  #\"weights\": [0.3, 0.4]}\n",
    "# result2[\"analysis\"][\"variants1\"][\"features\"][\"variant2\"] = {} # Add more than 1 variant\n",
    "\n",
    "# result2[\"analysis\"][\"genes1\"][\"logic\"] = \"or/and\" # Ex: \"or\"\n",
    "# result2[\"analysis\"][\"genes1\"][\"sub_result\"] = \"\"  # More specific result\n",
    "# result2[\"analysis\"][\"genes1\"][\"features\"][\"gene1\"] = {\"logic\": \"or/and\",              # Ex: [\"FAM138A\"] = {\"logic\": \"or\",\n",
    "#                                                      \"fields\": {\"field1\": \"value1\",  #                    \"fields\": {\"effect\": \"upstream_gene_variant\",\n",
    "#                                                                 \"field2\": \"value2\"}} #                               \"putative_impact\": \"MODERATE\"}}\n",
    "# result2[\"analysis\"][\"genes1\"][\"features\"][\"gene2\"] = {} # Add more than 1 gene"
   ]
  },
  {
   "cell_type": "markdown",
   "metadata": {},
   "source": [
    "<hr style=\"border: none; border-bottom: 3px solid #20D9BA;\">\n",
    "## 5. Save the result(s) you've created \n",
    "If you made multiple results, add them just like result1 is added below. If you have two results, the cell below should look like this:"
   ]
  },
  {
   "cell_type": "code",
   "execution_count": 7,
   "metadata": {
    "collapsed": true
   },
   "outputs": [],
   "source": [
    "results ={\"result1\": result1, \n",
    "#           \"result2\": result2\n",
    "         }"
   ]
  },
  {
   "cell_type": "markdown",
   "metadata": {},
   "source": [
    "## 6. Enter information for default result of basic genome app"
   ]
  },
  {
   "cell_type": "code",
   "execution_count": 8,
   "metadata": {
    "collapsed": true
   },
   "outputs": [],
   "source": [
    "default_result = {\n",
    "    \"result\": \"Default result\", # Ex: \"result\": \"You're a tough case, we can't tell your ninja potential.\"\n",
    "    \"Optional Key 1\": \"Text\", # Ex: \"Action\": \"Start with a muy thai class and see if you survive. If you do, you may have a ninja future.\"\n",
    "}"
   ]
  },
  {
   "cell_type": "markdown",
   "metadata": {},
   "source": [
    "## 6. Create basic genome app dictionary"
   ]
  },
  {
   "cell_type": "code",
   "execution_count": 9,
   "metadata": {
    "collapsed": false
   },
   "outputs": [],
   "source": [
    "genome_app = {\"regions\": regions,\n",
    "              \"results\": results,\n",
    "              \"default_result\": default_result}"
   ]
  },
  {
   "cell_type": "markdown",
   "metadata": {},
   "source": [
    "## 7. Create basic genome app JSON"
   ]
  },
  {
   "cell_type": "code",
   "execution_count": 12,
   "metadata": {
    "collapsed": true
   },
   "outputs": [],
   "source": [
    "with open('../data/app.json', 'w') as outfile:\n",
    "    json.dump(genome_app, outfile, indent=True)"
   ]
  }
 ],
 "metadata": {
  "kernelspec": {
   "display_name": "Python 3",
   "language": "python",
   "name": "python3"
  },
  "language_info": {
   "codemirror_mode": {
    "name": "ipython",
    "version": 3
   },
   "file_extension": ".py",
   "mimetype": "text/x-python",
   "name": "python",
   "nbconvert_exporter": "python",
   "pygments_lexer": "ipython3",
   "version": "3.6.0"
  }
 },
 "nbformat": 4,
 "nbformat_minor": 2
}
