{
 "cells": [
  {
   "cell_type": "markdown",
   "metadata": {},
   "source": [
    "<center><h1>Welcome! Lets Make a Genome App!<h1/> "
   ]
  },
  {
   "cell_type": "markdown",
   "metadata": {},
   "source": [
    "## 1. Run this cell to import the json package we'll need"
   ]
  },
  {
   "cell_type": "code",
   "execution_count": 3,
   "metadata": {
    "ExecuteTime": {
     "end_time": "2017-05-26T15:58:16.172280Z",
     "start_time": "2017-05-26T15:58:16.169057"
    },
    "collapsed": true
   },
   "outputs": [],
   "source": [
    "import json\n",
    "import pandas as pd"
   ]
  },
  {
   "cell_type": "markdown",
   "metadata": {},
   "source": [
    "### Import file with list of variants (optional)"
   ]
  },
  {
   "cell_type": "code",
   "execution_count": 4,
   "metadata": {
    "ExecuteTime": {
     "end_time": "2017-05-26T15:58:17.347715Z",
     "start_time": "2017-05-26T15:58:17.340896"
    },
    "collapsed": false
   },
   "outputs": [],
   "source": [
    "obesity_variants = '../data/obesity_data.csv'\n",
    "data = pd.read_csv(obesity_variants) "
   ]
  },
  {
   "cell_type": "code",
   "execution_count": 10,
   "metadata": {
    "ExecuteTime": {
     "end_time": "2017-05-26T16:00:55.558558Z",
     "start_time": "2017-05-26T16:00:55.552535"
    },
    "collapsed": false
   },
   "outputs": [
    {
     "data": {
      "text/plain": [
       "Index(['variant', 'pos', 'gene', 'genotype', 'eaf', 'b', 'se'], dtype='object')"
      ]
     },
     "execution_count": 10,
     "metadata": {},
     "output_type": "execute_result"
    }
   ],
   "source": [
    "data.columns"
   ]
  },
  {
   "cell_type": "code",
   "execution_count": 20,
   "metadata": {
    "ExecuteTime": {
     "end_time": "2017-05-26T16:47:20.559223Z",
     "start_time": "2017-05-26T16:47:20.541970"
    },
    "collapsed": false
   },
   "outputs": [
    {
     "name": "stdout",
     "output_type": "stream",
     "text": [
      "G\n",
      "C\n",
      "T\n",
      "G\n",
      "A\n",
      "G\n",
      "G\n",
      "A\n",
      "G\n",
      "A\n",
      "T\n",
      "C\n",
      "C\n",
      "G\n",
      "G\n",
      "T\n",
      "T\n",
      "G\n",
      "A\n",
      "A\n",
      "G\n",
      "G\n",
      "C\n",
      "G\n",
      "G\n",
      "G\n",
      "T\n",
      "A\n",
      "G\n",
      "A\n",
      "C\n",
      "C\n",
      "T\n",
      "A\n",
      "T\n",
      "C\n",
      "T\n",
      "G\n",
      "C\n",
      "C\n",
      "G\n",
      "T\n",
      "A\n",
      "C\n",
      "T\n",
      "G\n",
      "C\n",
      "G\n",
      "A\n",
      "C\n",
      "T\n",
      "T\n",
      "A\n",
      "T\n",
      "G\n",
      "C\n",
      "C\n",
      "C\n",
      "A\n",
      "C\n",
      "C\n",
      "G\n",
      "C\n",
      "A\n",
      "A\n",
      "T\n",
      "A\n",
      "A\n",
      "G\n",
      "T\n",
      "G\n",
      "C\n",
      "G\n",
      "C\n",
      "T\n",
      "C\n",
      "C\n",
      "A\n",
      "G\n",
      "A\n",
      "T\n",
      "T\n",
      "G\n",
      "T\n",
      "T\n",
      "G\n",
      "G\n",
      "G\n",
      "C\n",
      "T\n",
      "C\n",
      "A\n",
      "T\n",
      "C\n",
      "T\n",
      "G\n",
      "A\n"
     ]
    }
   ],
   "source": [
    "for genotype in data.ix[:, 'genotype']:\n",
    "    print(genotype)"
   ]
  },
  {
   "cell_type": "markdown",
   "metadata": {},
   "source": [
    "## 2. Enter the genomic regions you want to search\n",
    "See the image below for an example of what to enter below. \n",
    "<div>\n",
    "    <img src=\"../media/set_regions_example.png\" align=\"left\" width=650 height=200>\n",
    "</div>"
   ]
  },
  {
   "cell_type": "code",
   "execution_count": 16,
   "metadata": {
    "ExecuteTime": {
     "end_time": "2017-05-26T16:02:05.451785Z",
     "start_time": "2017-05-26T16:02:05.447958"
    },
    "collapsed": false
   },
   "outputs": [],
   "source": [
    "regions_from_data_file = data.pos.values.tolist()\n",
    "\n",
    "regions = regions_from_data_file + \\\n",
    "    [\"2:634905-634905\", \"11:27645655-27645655\", \"12:49853685-49853685\",\n",
    "    \"16:53786615-53786615\", \"4:45173674-45173674\", \"16:28862077-28862077\",\n",
    "    \"11:47641497-47641497\", \"18:60184530-60184530\", \"18:60371110-60372775\"] + \\\n",
    "    [\"7:128241284-128257628\", \"1:65420652-65641559\", \"2:25160853-25168903\",\n",
    "    \"1:26911489-26913966\", \"19:39825350-39834201\", \"11:74000281-74009435\"]"
   ]
  },
  {
   "cell_type": "markdown",
   "metadata": {},
   "source": [
    "<hr style=\"border: none; border-bottom: 3px solid #20D9BA;\">\n",
    "## 3. Build Result 1"
   ]
  },
  {
   "cell_type": "markdown",
   "metadata": {},
   "source": [
    "### 3.1 Run the cell below to set up the first possible result"
   ]
  },
  {
   "cell_type": "code",
   "execution_count": 4,
   "metadata": {
    "ExecuteTime": {
     "end_time": "2017-05-24T20:38:03.683387Z",
     "start_time": "2017-05-24T20:38:03.679367"
    },
    "collapsed": true
   },
   "outputs": [],
   "source": [
    "result1 = {\"analysis\": {\"variants1\": {\"features\": {}},\n",
    "                        \"genes1\": {\"features\": {}}}}"
   ]
  },
  {
   "cell_type": "markdown",
   "metadata": {},
   "source": [
    "### 3.2 Enter info for your first result here\n",
    "Here's an example of how this information will be displayed on the Guardiome UI once your app is published!\n",
    "\n",
    "XXX image of result and optional keys in gui"
   ]
  },
  {
   "cell_type": "code",
   "execution_count": 5,
   "metadata": {
    "ExecuteTime": {
     "end_time": "2017-05-21T22:52:21.089686Z",
     "start_time": "2017-05-21T22:52:21.086385"
    },
    "collapsed": true
   },
   "outputs": [],
   "source": [
    "result1[\"result\"] = \"You have increased risk of obesity.\"\n",
    "result1[\"logic\"] = \"or\"\n",
    "result1[\"What You Can Do\"] = \"Diet, a healthy sleep schedule, and regular exercise are all key factors in avoiding obesity. Try to get at least 8 hours of sleep a night, eat at least 6 servings of fruits and vegetables everyday, avoid high-calorie foods, and exercise at least 30 minutes everyday.\""
   ]
  },
  {
   "cell_type": "markdown",
   "metadata": {},
   "source": [
    "### 3.3 Add info about genomic variants that will be searched for result 1\n",
    "Here's an explanation of the fields you'll be filling in below:\n",
    "\n",
    "* 'sub_result'\n",
    "  * if criteria met, the value for 'sub_result' is added to and displayed with the result.\n",
    "  * value for 'sub_result' may contain 'WWW'. If logic is __add__ or __multiply__, 'WWW' is replaced with either the sum or product of the weights corresponding to the matching genotypes. Then as always, the value for 'sub_result' is added to the result\n",
    "* 'logic'\n",
    "  * __and__\n",
    "    * if the customer's genotype should match one of the genotypes in 'genotypes' of each variant in 'features'\n",
    "  * __or__\n",
    "    * if the customer's genotype should match one of the genotypes in 'genotypes' of at least one variant in 'features'\n",
    "  * __add__\n",
    "    * the weights corresponding to each matching genotype in 'genotypes' are added together and the 'WWW' string in the value for sub_result will be replaced by the sum of the weights.\n",
    "  * __multiply__\n",
    "    * the weights corresponding to each matching genotype in 'genotypes' are multiplied and the 'WWW' string in the value for sub_result will be replaced by the product of the weights.\n",
    "* 'features'\n",
    "  * add as many as you want\n",
    "  * each key should be the name of a variant like ['rs333'](https://www.snpedia.com/index.php/Rs333). Make sure to include the 'rs' in the variant name.\n",
    "  * 'genotypes'\n",
    "    * can have multiple\n",
    "    * each genotype is a list of two alleles. The order of the alleles doesn't matter\n",
    "    * if the allele is multiple nucleotides long, make sure you write them in the 5' to 3' direction (almost universally used).\n",
    "  * 'weights'\n",
    "    * can be an empty list or can have an integer corresponding to each genotype listed in 'genotypes'\n",
    "    * the first weight listed corresponds to the first genotype listed in 'genotypes'  \n",
    "    \n",
    "Here's an examples of the cell below filled out:"
   ]
  },
  {
   "cell_type": "code",
   "execution_count": 6,
   "metadata": {
    "ExecuteTime": {
     "end_time": "2017-05-21T22:52:22.056463Z",
     "start_time": "2017-05-21T22:52:22.045747"
    },
    "collapsed": false
   },
   "outputs": [],
   "source": [
    "for index in range(len(data.variant)):\n",
    "    increased_obesity_risk[\"analysis\"][\"variants_BMI\"][\"features\"][data.variant[index]] = {\"genotype\": [data.genotype[index]], \"weight\": [0.1]}\n",
    "\n",
    "result1[\"analysis\"][\"variants1\"][\"logic\"] = \"add\"\n",
    "result1[\"analysis\"][\"variants1\"][\"sub_result\"] = \"You have a WWW BMI unit difference compared to the average person.\"\n",
    "result1[\"analysis\"][\"variants1\"][\"features\"][\"rs6548238\"] = {\"genotypes\": [[\"C\", \"T\"], [\"T\", \"T\"]], \"weights\": [-0.26, -0.52]}\n",
    "result1[\"analysis\"][\"variants1\"][\"features\"][\"rs925946\"] = {\"genotypes\": [[\"T\", \"T\"], [\"G\", \"G\"]], \"weights\": [0.35, -0.35]}\n",
    "\n",
    "result1[\"analysis\"][\"variants1\"][\"features\"][\"rs7138803\"] = {\"genotypes\": [[\"A\", \"A\"], [\"G\", \"G\"]], \"weights\": [0.41, -0.41]}\n",
    "result1[\"analysis\"][\"variants1\"][\"features\"][\"rs9939609\"] = {\"genotypes\": [[\"A\", \"A\"], [\"T\", \"T\"]], \"weights\": [0.33, -0.33]}\n",
    "result1[\"analysis\"][\"variants1\"][\"features\"][\"rs13130484\"] = {\"genotypes\": [[\"T\", \"T\"], [\"C\", \"C\"]], \"weights\": [0.19, -0.19]}\n",
    "result1[\"analysis\"][\"variants1\"][\"features\"][\"rs4788102\"] = {\"genotypes\": [[\"A\", \"A\"], [\"G\", \"G\"]], \"weights\": [0.15, -0.15]}\n",
    "result1[\"analysis\"][\"variants1\"][\"features\"][\"rs10838738\"] = {\"genotypes\": [[\"G\", \"G\"], [\"A\", \"A\"]], \"weights\": [0.07, -0.07]}\n",
    "result1[\"analysis\"][\"variants1\"][\"features\"][\"rs10871777\"] = {\"genotypes\": [[\"G\", \"G\"], [\"A\", \"G\"]], \"weights\": [0.44, 0.22]}"
   ]
  },
  {
   "cell_type": "code",
   "execution_count": null,
   "metadata": {
    "collapsed": true
   },
   "outputs": [],
   "source": [
    "result1[\"analysis\"][\"variants2\"][\"logic\"] = \"add\"\n",
    "result1[\"analysis\"][\"variants2\"][\"sub_result\"] = \"You have XXX waist-to-hip-ratio related variants, which is a YYY waist-to-hip ratio unit difference compared to the average person.\"\n",
    "\n",
    "\n",
    "for item in data.index:\n",
    "    result1[\"analysis\"][\"variants2\"][\"features\"][data.variant[index]] = {\"genotype\": [data.genotype[index]], \"weight\": [0.1]}"
   ]
  },
  {
   "cell_type": "markdown",
   "metadata": {},
   "source": [
    "### 3.4 Add info about genes that will be searched for result 1"
   ]
  },
  {
   "cell_type": "code",
   "execution_count": 7,
   "metadata": {
    "ExecuteTime": {
     "end_time": "2017-05-21T22:52:22.821596Z",
     "start_time": "2017-05-21T22:52:22.813548"
    },
    "collapsed": true
   },
   "outputs": [],
   "source": [
    "result1[\"analysis\"][\"genes1\"][\"logic\"] = \"or\"\n",
    "result1[\"analysis\"][\"genes1\"][\"sub_result\"] = \"You have one or more harmful mutations in one or more obesity-associated genes. Therefore, you are likely to produce less proteins involved in regulating appetite and metabolism resulting in increased appetite and decreased metabolism.\"\n",
    "result1[\"analysis\"][\"genes1\"][\"features\"][\"MC4R\"] = {\"logic\": \"or\", \n",
    "                                                     \"fields\": {\"putative_impact\": \"HIGH\"}} \n",
    "result1[\"analysis\"][\"genes1\"][\"features\"][\"LEP\"] = {\"logic\": \"or\", \n",
    "                                                     \"fields\": {\"putative_impact\": \"HIGH\"}}\n",
    "result1[\"analysis\"][\"genes1\"][\"features\"][\"LEPR\"] = {\"logic\": \"or\", \n",
    "                                                     \"fields\": {\"putative_impact\": \"HIGH\"}}\n",
    "result1[\"analysis\"][\"genes1\"][\"features\"][\"POMC\"] = {\"logic\": \"or\", \n",
    "                                                     \"fields\": {\"putative_impact\": \"HIGH\"}}\n",
    "result1[\"analysis\"][\"genes1\"][\"features\"][\"NR0B2\"] = {\"logic\": \"or\", \n",
    "                                                     \"fields\": {\"putative_impact\": \"HIGH\"}}\n",
    "result1[\"analysis\"][\"genes1\"][\"features\"][\"DYRK1B\"] = {\"logic\": \"or\", \n",
    "                                                     \"fields\": {\"putative_impact\": \"HIGH\"}}\n",
    "result1[\"analysis\"][\"genes1\"][\"features\"][\"UCP3\"] = {\"logic\": \"or\", \n",
    "                                                     \"fields\": {\"putative_impact\": \"HIGH\"}}"
   ]
  },
  {
   "cell_type": "markdown",
   "metadata": {},
   "source": [
    "<hr style=\"border: none; border-bottom: 3px solid #20D9BA;\">\n",
    "## 4. If you want, add more results below\n",
    "To turn the cell below into actionable code, highlight the entire cell and press COMMAND + /. If you want to add even more results, you can copy and paste the content below into new cells :)"
   ]
  },
  {
   "cell_type": "code",
   "execution_count": 8,
   "metadata": {
    "ExecuteTime": {
     "end_time": "2017-05-21T22:52:23.773198Z",
     "start_time": "2017-05-21T22:52:23.768738"
    },
    "collapsed": true
   },
   "outputs": [],
   "source": [
    "# result2 = {\"analysis\": {\"variants\": {\"features\": {}},\n",
    "#                         \"genes\": {\"features\": {}}}}\n",
    "\n",
    "# result2[\"result\"] = \"Result of basic genome app.\" # Ex: \"You might be able to become a powerful ninja!\"\n",
    "# result2[\"logic\"] = \"or/and\" # Ex: \"or\"\n",
    "# result2[\"Optional Key 1\"] = \"Text\"\n",
    "\n",
    "# result2[\"analysis\"][\"variants\"][\"logic\"] = \"or/and/add/multiply\" # Ex: \"add\"\n",
    "# result2[\"analysis\"][\"variants\"][\"sub_result\"] = \"Specific result.\"\n",
    "# result2[\"analysis\"][\"variants\"][\"features\"][\"variant1\"] = {\"genotype\": [\"genotype1\",], # Ex: [\"rs333\"] = {\"genotype\": [\"GG\", \"GC\"],\n",
    "#                                                            \"weight\": [\"weight1\",]}     #                  \"weight\": [0.3, 0.4]}\n",
    "# result2[\"analysis\"][\"variants\"][\"features\"][\"variant2\"] = {} # Add more than 1 variant\n",
    "\n",
    "# result2[\"analysis\"][\"genes\"][\"logic\"] = \"or/and\" # Ex: \"or\"\n",
    "# result2[\"analysis\"][\"genes\"][\"sub_result\"] = \"Specific result.\"\n",
    "# result2[\"analysis\"][\"genes\"][\"features\"][\"gene1\"] = {\"logic\": \"or/and\",              # Ex: [\"FAM138A\"] = {\"logic\": \"or\",\n",
    "#                                                      \"fields\": {\"field1\": \"value1\",  #                    \"fields\": {\"effect\": \"upstream_gene_variant\",\n",
    "#                                                                 \"field2\": \"value2\"}} #                               \"putative_impact\": \"MODERATE\"}}\n",
    "# result2[\"analysis\"][\"genes\"][\"features\"][\"gene2\"] = {} # Add more than 1 gene"
   ]
  },
  {
   "cell_type": "markdown",
   "metadata": {},
   "source": [
    "<hr style=\"border: none; border-bottom: 3px solid #20D9BA;\">\n",
    "## 5. Save the result(s) you've created \n",
    "If you made multiple results, add them just like result1 is added below. If you have two results, the cell below should look like this:"
   ]
  },
  {
   "cell_type": "code",
   "execution_count": 10,
   "metadata": {
    "ExecuteTime": {
     "end_time": "2017-05-21T22:52:31.175531Z",
     "start_time": "2017-05-21T22:52:31.172771"
    },
    "collapsed": true
   },
   "outputs": [],
   "source": [
    "results ={\"result1\": result1}"
   ]
  },
  {
   "cell_type": "markdown",
   "metadata": {},
   "source": [
    "## 6. Enter information for default result of basic genome app"
   ]
  },
  {
   "cell_type": "code",
   "execution_count": 11,
   "metadata": {
    "ExecuteTime": {
     "end_time": "2017-05-21T22:52:33.234039Z",
     "start_time": "2017-05-21T22:52:33.231396"
    },
    "collapsed": true
   },
   "outputs": [],
   "source": [
    "default_result = {\"result\": \"You're not at increased risk for obesity\"}"
   ]
  },
  {
   "cell_type": "markdown",
   "metadata": {},
   "source": [
    "## 6. Create basic genome app dictionary"
   ]
  },
  {
   "cell_type": "code",
   "execution_count": 12,
   "metadata": {
    "ExecuteTime": {
     "end_time": "2017-05-21T22:52:34.115139Z",
     "start_time": "2017-05-21T22:52:34.112301"
    },
    "collapsed": false
   },
   "outputs": [],
   "source": [
    "genome_app = {\"regions\": regions,\n",
    "              \"results\": results,\n",
    "              \"default_result\": default_result}"
   ]
  },
  {
   "cell_type": "code",
   "execution_count": 13,
   "metadata": {
    "ExecuteTime": {
     "end_time": "2017-05-21T22:52:36.260626Z",
     "start_time": "2017-05-21T22:52:36.253365"
    },
    "collapsed": false
   },
   "outputs": [
    {
     "data": {
      "text/plain": [
       "{'default_result': {'result': \"You're not at increased risk for obesity\"},\n",
       " 'regions': ['2:634905-634905',\n",
       "  '11:27645655-27645655',\n",
       "  '12:49853685-49853685',\n",
       "  '16:53786615-53786615',\n",
       "  '4:45173674-45173674',\n",
       "  '16:28862077-28862077',\n",
       "  '11:47641497-47641497',\n",
       "  '18:60184530-60184530',\n",
       "  '18:60371110-60372775',\n",
       "  '7:128241284-128257628',\n",
       "  '1:65420652-65641559',\n",
       "  '2:25160853-25168903',\n",
       "  '1:26911489-26913966',\n",
       "  '19:39825350-39834201',\n",
       "  '11:74000281-74009435'],\n",
       " 'results': {'result1': {'What You Can Do': 'Diet, a healthy sleep schedule, and regular exercise are all key factors in avoiding obesity. Try to get at least 8 hours of sleep a night, eat at least 6 servings of fruits and vegetables everyday, avoid high-calorie foods, and exercise at least 30 minutes everyday.',\n",
       "   'analysis': {'genes1': {'features': {'DYRK1B': {'fields': {'putative_impact': 'HIGH'},\n",
       "       'logic': 'or'},\n",
       "      'LEP': {'fields': {'putative_impact': 'HIGH'}, 'logic': 'or'},\n",
       "      'LEPR': {'fields': {'putative_impact': 'HIGH'}, 'logic': 'or'},\n",
       "      'MC4R': {'fields': {'putative_impact': 'HIGH'}, 'logic': 'or'},\n",
       "      'NR0B2': {'fields': {'putative_impact': 'HIGH'}, 'logic': 'or'},\n",
       "      'POMC': {'fields': {'putative_impact': 'HIGH'}, 'logic': 'or'},\n",
       "      'UCP3': {'fields': {'putative_impact': 'HIGH'}, 'logic': 'or'}},\n",
       "     'logic': 'or',\n",
       "     'sub_result': 'You have one or more harmful mutations in one or more obesity-associated genes. Therefore, you are likely to produce less proteins involved in regulating appetite and metabolism resulting in increased appetite and decreased metabolism.'},\n",
       "    'variants1': {'features': {'rs10838738': {'genotypes': [['G', 'G'],\n",
       "        ['A', 'A']],\n",
       "       'weights': [0.07, -0.07]},\n",
       "      'rs10871777': {'genotypes': [['G', 'G'], ['A', 'G']],\n",
       "       'weights': [0.44, 0.22]},\n",
       "      'rs13130484': {'genotypes': [['T', 'T'], ['C', 'C']],\n",
       "       'weights': [0.19, -0.19]},\n",
       "      'rs4788102': {'genotypes': [['A', 'A'], ['G', 'G']],\n",
       "       'weights': [0.15, -0.15]},\n",
       "      'rs6548238': {'genotypes': [['C', 'T'], ['T', 'T']],\n",
       "       'weights': [-0.26, -0.52]},\n",
       "      'rs7138803': {'genotypes': [['A', 'A'], ['G', 'G']],\n",
       "       'weights': [0.41, -0.41]},\n",
       "      'rs925946': {'genotypes': [['T', 'T'], ['G', 'G']],\n",
       "       'weights': [0.35, -0.35]},\n",
       "      'rs9939609': {'genotypes': [['A', 'A'], ['T', 'T']],\n",
       "       'weights': [0.33, -0.33]}},\n",
       "     'logic': 'add',\n",
       "     'sub_result': 'You have a WWW BMI unit difference compared to the average person.'}},\n",
       "   'logic': 'or',\n",
       "   'result': 'You have increased risk of obesity.'}}}"
      ]
     },
     "execution_count": 13,
     "metadata": {},
     "output_type": "execute_result"
    }
   ],
   "source": [
    "genome_app"
   ]
  },
  {
   "cell_type": "markdown",
   "metadata": {},
   "source": [
    "## 7. Create basic genome app JSON"
   ]
  },
  {
   "cell_type": "code",
   "execution_count": 15,
   "metadata": {
    "ExecuteTime": {
     "end_time": "2017-05-21T22:54:02.887704Z",
     "start_time": "2017-05-21T22:54:02.882307"
    },
    "collapsed": true
   },
   "outputs": [],
   "source": [
    "with open('../data/app.json', 'w') as outfile:\n",
    "    json.dump(genome_app, outfile, indent=True)"
   ]
  },
  {
   "cell_type": "code",
   "execution_count": null,
   "metadata": {
    "collapsed": true
   },
   "outputs": [],
   "source": []
  }
 ],
 "metadata": {
  "kernelspec": {
   "display_name": "Python 3",
   "language": "python",
   "name": "python3"
  },
  "language_info": {
   "codemirror_mode": {
    "name": "ipython",
    "version": 3
   },
   "file_extension": ".py",
   "mimetype": "text/x-python",
   "name": "python",
   "nbconvert_exporter": "python",
   "pygments_lexer": "ipython3",
   "version": "3.6.0"
  }
 },
 "nbformat": 4,
 "nbformat_minor": 2
}
