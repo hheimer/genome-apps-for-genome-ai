{
 "cells": [
  {
   "cell_type": "markdown",
   "metadata": {},
   "source": [
    "<center><h1>Welcome! Lets Make a Genome App!<h1/> "
   ]
  },
  {
   "cell_type": "markdown",
   "metadata": {},
   "source": [
    "## 1. Run this cell to import the json package we'll need"
   ]
  },
  {
   "cell_type": "code",
   "execution_count": 19,
   "metadata": {
    "ExecuteTime": {
     "end_time": "2017-05-31T17:40:19.853970Z",
     "start_time": "2017-05-31T17:40:19.850785"
    },
    "collapsed": true
   },
   "outputs": [],
   "source": [
    "import json"
   ]
  },
  {
   "cell_type": "markdown",
   "metadata": {},
   "source": [
    "## 2. Enter the genomic regions you want to search\n",
    "See the image below for an example of what to enter below. "
   ]
  },
  {
   "cell_type": "code",
   "execution_count": 20,
   "metadata": {
    "ExecuteTime": {
     "end_time": "2017-05-31T17:40:20.451187Z",
     "start_time": "2017-05-31T17:40:20.448066"
    },
    "collapsed": true
   },
   "outputs": [],
   "source": [
    "regions = [\"12:48083303-48083303\"]"
   ]
  },
  {
   "cell_type": "markdown",
   "metadata": {},
   "source": [
    "<hr style=\"border: none; border-bottom: 3px solid #20D9BA;\">\n",
    "## 3. Build Result 1\n",
    "<p>\n",
    "### 3.1 Run the cell below to set up the first possible result"
   ]
  },
  {
   "cell_type": "code",
   "execution_count": 21,
   "metadata": {
    "ExecuteTime": {
     "end_time": "2017-05-31T17:40:21.012436Z",
     "start_time": "2017-05-31T17:40:21.009341"
    },
    "collapsed": true
   },
   "outputs": [],
   "source": [
    "result1 = {\"analysis\": {\"variants1\": {\"features\": {}},\n",
    "                        \"genes1\": {\"features\": {}}}}"
   ]
  },
  {
   "cell_type": "markdown",
   "metadata": {},
   "source": [
    "### 3.2 Enter info for your first result here\n",
    "Here's an example of how this information will be displayed on the Guardiome UI once your app is published!\n",
    "\n",
    "XXX image of result and optional keys in gui"
   ]
  },
  {
   "cell_type": "code",
   "execution_count": 22,
   "metadata": {
    "ExecuteTime": {
     "end_time": "2017-05-31T17:40:21.585091Z",
     "start_time": "2017-05-31T17:40:21.582148"
    },
    "collapsed": true
   },
   "outputs": [],
   "source": [
    "result1[\"result\"] = \"You have a high chance of developing chronic mountain sickness and may fare worse long-term at high altitudes.\"\n",
    "result1[\"logic\"] = \"or\""
   ]
  },
  {
   "cell_type": "markdown",
   "metadata": {
    "ExecuteTime": {
     "end_time": "2017-05-19T21:48:13.985170Z",
     "start_time": "2017-05-19T21:48:13.973926"
    }
   },
   "source": [
    "### 3.3 Add info about genomic variants that will be searched for result 1\n",
    "Here's an explanation of the fields you'll be filling in below:\n",
    "\n",
    "* 'sub_result'\n",
    "  * if criteria met, the value for 'sub_result' is added to and displayed with the result.\n",
    "  * value for 'sub_result' may contain 'WWW'. If logic is __add__ or __multiply__, 'WWW' is replaced with either the sum or product of the weights corresponding to the matching genotypes. Then as always, the value for 'sub_result' is added to the result\n",
    "* 'logic'\n",
    "  * __and__\n",
    "    * if the customer's genotype should match one of the genotypes in 'genotypes' of each variant in 'features'\n",
    "  * __or__\n",
    "    * if the customer's genotype should match one of the genotypes in 'genotypes' of at least one variant in 'features'\n",
    "  * __add__\n",
    "    * the weights corresponding to each matching genotype in 'genotypes' are added together and the 'WWW' string in the value for sub_result will be replaced by the sum of the weights.\n",
    "  * __multiply__\n",
    "    * the weights corresponding to each matching genotype in 'genotypes' are multiplied and the 'WWW' string in the value for sub_result will be replaced by the product of the weights.\n",
    "* 'features'\n",
    "  * add as many as you want\n",
    "  * each key should be the name of a variant like ['rs333'](https://www.snpedia.com/index.php/Rs333). Make sure to include the 'rs' in the variant name.\n",
    "  * 'genotypes'\n",
    "    * can have multiple\n",
    "    * each genotype is a list of two alleles. The order of the alleles doesn't matter\n",
    "    * if the allele is multiple nucleotides long, make sure you write them in the 5' to 3' direction (almost universally used).\n",
    "  * 'weights'\n",
    "    * can be an empty list or can have an integer corresponding to each genotype listed in 'genotypes'\n",
    "    * the first weight listed corresponds to the first genotype listed in 'genotypes'"
   ]
  },
  {
   "cell_type": "code",
   "execution_count": 23,
   "metadata": {
    "ExecuteTime": {
     "end_time": "2017-05-31T17:40:22.151012Z",
     "start_time": "2017-05-31T17:40:22.146574"
    },
    "collapsed": true
   },
   "outputs": [],
   "source": [
    "result1[\"analysis\"][\"variants1\"][\"logic\"] = \"or\"\n",
    "result1[\"analysis\"][\"variants1\"][\"sub_result\"] = \"\"\n",
    "result1[\"analysis\"][\"variants1\"][\"features\"][\"rs7963934\"] = {\n",
    "    \"genotypes\": [[\"C\", \"C\"], [\"G\", \"C\"]],\n",
    "    \"weights\": []\n",
    "}"
   ]
  },
  {
   "cell_type": "markdown",
   "metadata": {},
   "source": [
    "<hr style=\"border: none; border-bottom: 3px solid #20D9BA;\">\n",
    "## 4. If you want, add more results below\n",
    "To turn the cell below into actionable code, highlight the entire cell and press COMMAND + /. If you want to add even more results, you can copy and paste the content below into new cells :)"
   ]
  },
  {
   "cell_type": "code",
   "execution_count": 24,
   "metadata": {
    "ExecuteTime": {
     "end_time": "2017-05-31T17:40:22.712628Z",
     "start_time": "2017-05-31T17:40:22.707359"
    },
    "collapsed": true
   },
   "outputs": [],
   "source": [
    "result2 = {\"analysis\": {\"variants1\": {\"features\": {}},\n",
    "                        \"genes1\": {\"features\": {}}}}\n",
    "\n",
    "result2[\"result\"] = \"You have a small chance of developing chronic mountain sickness and may fare better long-term at high altitudes.\"\n",
    "result2[\"logic\"] = \"or\"\n",
    "\n",
    "result2[\"analysis\"][\"variants1\"][\"logic\"] = \"or\" \n",
    "result2[\"analysis\"][\"variants1\"][\"sub_result\"] = \"\"\n",
    "result2[\"analysis\"][\"variants1\"][\"features\"][\"rs7963934\"] = {\"genotypes\": [[\"G\", \"G\"],],\n",
    "                                                           \"weights\": []}"
   ]
  },
  {
   "cell_type": "markdown",
   "metadata": {},
   "source": [
    "<hr style=\"border: none; border-bottom: 3px solid #20D9BA;\">\n",
    "## 5. Save the result(s) you've created \n",
    "If you made multiple results, add them just like result1 is added below. If you have two results, the cell below should look like this:"
   ]
  },
  {
   "cell_type": "code",
   "execution_count": 25,
   "metadata": {
    "ExecuteTime": {
     "end_time": "2017-05-31T17:40:23.419319Z",
     "start_time": "2017-05-31T17:40:23.416242"
    },
    "collapsed": true
   },
   "outputs": [],
   "source": [
    "results ={\"result1\": result1, \n",
    "          \"result2\": result2\n",
    "         }"
   ]
  },
  {
   "cell_type": "markdown",
   "metadata": {},
   "source": [
    "## 6. Enter information for default result of basic genome app"
   ]
  },
  {
   "cell_type": "code",
   "execution_count": 26,
   "metadata": {
    "ExecuteTime": {
     "end_time": "2017-05-31T17:40:24.107743Z",
     "start_time": "2017-05-31T17:40:24.104742"
    },
    "collapsed": true
   },
   "outputs": [],
   "source": [
    "default_result = {\n",
    "    \"result\": \"This analysis could not determine your altitude tolerance.\",\n",
    "    \"What Now\": \"Perhaps when more research on the genetics of altitude tolerance has been done, we'll be able to improve this analysis and provide you with a clear answer.\"\n",
    "}"
   ]
  },
  {
   "cell_type": "markdown",
   "metadata": {},
   "source": [
    "## 6. Create basic genome app dictionary"
   ]
  },
  {
   "cell_type": "code",
   "execution_count": 27,
   "metadata": {
    "ExecuteTime": {
     "end_time": "2017-05-31T17:40:25.308684Z",
     "start_time": "2017-05-31T17:40:25.305907"
    },
    "collapsed": false
   },
   "outputs": [],
   "source": [
    "genome_app = {\"regions\": regions,\n",
    "              \"results\": results,\n",
    "              \"default_result\": default_result}"
   ]
  },
  {
   "cell_type": "markdown",
   "metadata": {},
   "source": [
    "Check our the dictionary you've made by running the cell below! The order of keys in the dictionary doesn't matter since the Guardiome UI will sort them for you :)"
   ]
  },
  {
   "cell_type": "code",
   "execution_count": 28,
   "metadata": {
    "ExecuteTime": {
     "end_time": "2017-05-31T17:40:26.156470Z",
     "start_time": "2017-05-31T17:40:26.151652"
    },
    "collapsed": false
   },
   "outputs": [
    {
     "data": {
      "text/plain": [
       "{'default_result': {'What Now': \"Perhaps when more research on the genetics of altitude tolerance has been done, we'll be able to improve this analysis and provide you with a clear answer.\",\n",
       "  'result': 'This analysis could not determine your altitude tolerance.'},\n",
       " 'regions': ['12:48083303-48083303'],\n",
       " 'results': {'result1': {'analysis': {'genes1': {'features': {}},\n",
       "    'variants1': {'features': {'rs7963934': {'genotypes': [['C', 'C'],\n",
       "        ['G', 'C']],\n",
       "       'weights': []}},\n",
       "     'logic': 'or',\n",
       "     'sub_result': ''}},\n",
       "   'logic': 'or',\n",
       "   'result': 'You have a high chance of developing chronic mountain sickness and may fare worse long-term at high altitudes.'},\n",
       "  'result2': {'analysis': {'genes1': {'features': {}},\n",
       "    'variants1': {'features': {'rs7963934': {'genotypes': [['G', 'G']],\n",
       "       'weights': []}},\n",
       "     'logic': 'or',\n",
       "     'sub_result': ''}},\n",
       "   'logic': 'or',\n",
       "   'result': 'You have a small chance of developing chronic mountain sickness and may fare better long-term at high altitudes.'}}}"
      ]
     },
     "execution_count": 28,
     "metadata": {},
     "output_type": "execute_result"
    }
   ],
   "source": [
    "genome_app"
   ]
  },
  {
   "cell_type": "markdown",
   "metadata": {},
   "source": [
    "## 7. Create basic genome app JSON"
   ]
  },
  {
   "cell_type": "code",
   "execution_count": 30,
   "metadata": {
    "ExecuteTime": {
     "end_time": "2017-05-31T17:42:07.532340Z",
     "start_time": "2017-05-31T17:42:07.527982"
    },
    "collapsed": true
   },
   "outputs": [],
   "source": [
    "with open('../data/app.json', 'w') as outfile:\n",
    "    json.dump(genome_app, outfile, indent=True)"
   ]
  }
 ],
 "metadata": {
  "kernelspec": {
   "display_name": "Python 3",
   "language": "python",
   "name": "python3"
  },
  "language_info": {
   "codemirror_mode": {
    "name": "ipython",
    "version": 3
   },
   "file_extension": ".py",
   "mimetype": "text/x-python",
   "name": "python",
   "nbconvert_exporter": "python",
   "pygments_lexer": "ipython3",
   "version": "3.6.0"
  }
 },
 "nbformat": 4,
 "nbformat_minor": 2
}
